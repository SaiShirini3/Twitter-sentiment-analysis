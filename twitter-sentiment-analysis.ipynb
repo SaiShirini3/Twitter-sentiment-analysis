{
 "cells": [
  {
   "cell_type": "markdown",
   "id": "5472dc83",
   "metadata": {
    "papermill": {
     "duration": 0.009801,
     "end_time": "2022-11-17T10:19:05.332795",
     "exception": false,
     "start_time": "2022-11-17T10:19:05.322994",
     "status": "completed"
    },
    "tags": []
   },
   "source": [
    "> **Table of Contents:**\n",
    "> * [Importing Libraries](#1)\n",
    "> * [Loading Data](#2)\n",
    "> * [EDA - Exploratory Data Analysis](#3)\n",
    "> * [PreProcessing](#4)\n",
    "> * [Tokenization and Padding](#5)\n",
    "> * [Model and Predictions](#6)\n",
    "> ---"
   ]
  },
  {
   "cell_type": "markdown",
   "id": "3dc4ea57",
   "metadata": {
    "papermill": {
     "duration": 0.008991,
     "end_time": "2022-11-17T10:19:05.352110",
     "exception": false,
     "start_time": "2022-11-17T10:19:05.343119",
     "status": "completed"
    },
    "tags": []
   },
   "source": [
    "<a id=\"1\"></a> \n",
    "## 1. Importing Libraries"
   ]
  },
  {
   "cell_type": "code",
   "execution_count": 1,
   "id": "ff46b28b",
   "metadata": {
    "execution": {
     "iopub.execute_input": "2022-11-17T10:19:05.372399Z",
     "iopub.status.busy": "2022-11-17T10:19:05.371533Z",
     "iopub.status.idle": "2022-11-17T10:19:13.165688Z",
     "shell.execute_reply": "2022-11-17T10:19:13.164681Z"
    },
    "papermill": {
     "duration": 7.808217,
     "end_time": "2022-11-17T10:19:13.169232",
     "exception": false,
     "start_time": "2022-11-17T10:19:05.361015",
     "status": "completed"
    },
    "tags": []
   },
   "outputs": [
    {
     "name": "stderr",
     "output_type": "stream",
     "text": [
      "[nltk_data] Downloading package stopwords to /usr/share/nltk_data...\n",
      "[nltk_data]   Package stopwords is already up-to-date!\n"
     ]
    }
   ],
   "source": [
    "import pandas as pd\n",
    "import numpy as np\n",
    "import string\n",
    "from tensorflow.keras.preprocessing.text import Tokenizer\n",
    "from tensorflow.keras.preprocessing.sequence import pad_sequences\n",
    "import matplotlib.pyplot as plt\n",
    "import seaborn as sns\n",
    "from nltk.corpus import stopwords\n",
    "import nltk\n",
    "import re\n",
    "import multiprocessing\n",
    "import tensorflow as tf\n",
    "from sklearn.model_selection import train_test_split\n",
    "nltk.download(\"stopwords\")\n",
    "\n",
    "import warnings\n",
    "warnings.filterwarnings(\"ignore\")"
   ]
  },
  {
   "cell_type": "markdown",
   "id": "181f35b4",
   "metadata": {
    "papermill": {
     "duration": 0.008526,
     "end_time": "2022-11-17T10:19:13.188960",
     "exception": false,
     "start_time": "2022-11-17T10:19:13.180434",
     "status": "completed"
    },
    "tags": []
   },
   "source": [
    "<a id=\"2\"></a> \n",
    "# 2. Loading the Data"
   ]
  },
  {
   "cell_type": "code",
   "execution_count": 2,
   "id": "4807213f",
   "metadata": {
    "execution": {
     "iopub.execute_input": "2022-11-17T10:19:13.207662Z",
     "iopub.status.busy": "2022-11-17T10:19:13.207147Z",
     "iopub.status.idle": "2022-11-17T10:19:19.541622Z",
     "shell.execute_reply": "2022-11-17T10:19:19.540553Z"
    },
    "papermill": {
     "duration": 6.346694,
     "end_time": "2022-11-17T10:19:19.544342",
     "exception": false,
     "start_time": "2022-11-17T10:19:13.197648",
     "status": "completed"
    },
    "tags": []
   },
   "outputs": [],
   "source": [
    "# setting the names of the columns into col_names\n",
    "\n",
    "col_names = [\"target\", \"ids\", \"date\", \"flag\", \"user\", \"text\"]\n",
    "# reading the data from the path and using ISO-8859-1 encoding to decode it.\n",
    "\n",
    "df = pd.read_csv('../input/sentiment140/training.1600000.processed.noemoticon.csv',\n",
    "            encoding = \"ISO-8859-1\",\n",
    "            names=col_names)"
   ]
  },
  {
   "cell_type": "code",
   "execution_count": 3,
   "id": "f1b4e7dc",
   "metadata": {
    "execution": {
     "iopub.execute_input": "2022-11-17T10:19:19.563631Z",
     "iopub.status.busy": "2022-11-17T10:19:19.563294Z",
     "iopub.status.idle": "2022-11-17T10:19:19.769746Z",
     "shell.execute_reply": "2022-11-17T10:19:19.768670Z"
    },
    "papermill": {
     "duration": 0.21941,
     "end_time": "2022-11-17T10:19:19.772739",
     "exception": false,
     "start_time": "2022-11-17T10:19:19.553329",
     "status": "completed"
    },
    "tags": []
   },
   "outputs": [
    {
     "data": {
      "text/html": [
       "<div>\n",
       "<style scoped>\n",
       "    .dataframe tbody tr th:only-of-type {\n",
       "        vertical-align: middle;\n",
       "    }\n",
       "\n",
       "    .dataframe tbody tr th {\n",
       "        vertical-align: top;\n",
       "    }\n",
       "\n",
       "    .dataframe thead th {\n",
       "        text-align: right;\n",
       "    }\n",
       "</style>\n",
       "<table border=\"1\" class=\"dataframe\">\n",
       "  <thead>\n",
       "    <tr style=\"text-align: right;\">\n",
       "      <th></th>\n",
       "      <th>target</th>\n",
       "      <th>ids</th>\n",
       "      <th>date</th>\n",
       "      <th>flag</th>\n",
       "      <th>user</th>\n",
       "      <th>text</th>\n",
       "    </tr>\n",
       "  </thead>\n",
       "  <tbody>\n",
       "    <tr>\n",
       "      <th>600955</th>\n",
       "      <td>0</td>\n",
       "      <td>2221031320</td>\n",
       "      <td>Thu Jun 18 04:32:50 PDT 2009</td>\n",
       "      <td>NO_QUERY</td>\n",
       "      <td>Jessiesaurusrex</td>\n",
       "      <td>everyday that passes makes it hurt a little mo...</td>\n",
       "    </tr>\n",
       "    <tr>\n",
       "      <th>341468</th>\n",
       "      <td>0</td>\n",
       "      <td>2015048020</td>\n",
       "      <td>Wed Jun 03 03:32:15 PDT 2009</td>\n",
       "      <td>NO_QUERY</td>\n",
       "      <td>eheggart</td>\n",
       "      <td>@electric_blueee no worries. Going to give tim...</td>\n",
       "    </tr>\n",
       "    <tr>\n",
       "      <th>1247337</th>\n",
       "      <td>4</td>\n",
       "      <td>1995527988</td>\n",
       "      <td>Mon Jun 01 13:38:05 PDT 2009</td>\n",
       "      <td>NO_QUERY</td>\n",
       "      <td>lanarushing</td>\n",
       "      <td>June gloom is no match for me.  Getting lots d...</td>\n",
       "    </tr>\n",
       "    <tr>\n",
       "      <th>749746</th>\n",
       "      <td>0</td>\n",
       "      <td>2285208713</td>\n",
       "      <td>Mon Jun 22 14:50:37 PDT 2009</td>\n",
       "      <td>NO_QUERY</td>\n",
       "      <td>zoomzoompow</td>\n",
       "      <td>Is anyone even listening to me? Hello? Anybody...</td>\n",
       "    </tr>\n",
       "    <tr>\n",
       "      <th>99865</th>\n",
       "      <td>0</td>\n",
       "      <td>1793768374</td>\n",
       "      <td>Thu May 14 03:55:34 PDT 2009</td>\n",
       "      <td>NO_QUERY</td>\n",
       "      <td>nurse_on_duty</td>\n",
       "      <td>I hate it!!!! Tanggal si Danny!!!!! Nooooo!!!!...</td>\n",
       "    </tr>\n",
       "  </tbody>\n",
       "</table>\n",
       "</div>"
      ],
      "text/plain": [
       "         target         ids                          date      flag  \\\n",
       "600955        0  2221031320  Thu Jun 18 04:32:50 PDT 2009  NO_QUERY   \n",
       "341468        0  2015048020  Wed Jun 03 03:32:15 PDT 2009  NO_QUERY   \n",
       "1247337       4  1995527988  Mon Jun 01 13:38:05 PDT 2009  NO_QUERY   \n",
       "749746        0  2285208713  Mon Jun 22 14:50:37 PDT 2009  NO_QUERY   \n",
       "99865         0  1793768374  Thu May 14 03:55:34 PDT 2009  NO_QUERY   \n",
       "\n",
       "                    user                                               text  \n",
       "600955   Jessiesaurusrex  everyday that passes makes it hurt a little mo...  \n",
       "341468          eheggart  @electric_blueee no worries. Going to give tim...  \n",
       "1247337      lanarushing  June gloom is no match for me.  Getting lots d...  \n",
       "749746       zoomzoompow  Is anyone even listening to me? Hello? Anybody...  \n",
       "99865      nurse_on_duty  I hate it!!!! Tanggal si Danny!!!!! Nooooo!!!!...  "
      ]
     },
     "execution_count": 3,
     "metadata": {},
     "output_type": "execute_result"
    }
   ],
   "source": [
    "df = df.sample(160000) # taking 160k rows from the data\n",
    "df.head()"
   ]
  },
  {
   "cell_type": "markdown",
   "id": "c72debdb",
   "metadata": {
    "papermill": {
     "duration": 0.00866,
     "end_time": "2022-11-17T10:19:19.790140",
     "exception": false,
     "start_time": "2022-11-17T10:19:19.781480",
     "status": "completed"
    },
    "tags": []
   },
   "source": [
    "<a id=\"3\"></a> \n",
    "# 3. Let's Explore\n"
   ]
  },
  {
   "cell_type": "code",
   "execution_count": 4,
   "id": "e8a0d27f",
   "metadata": {
    "execution": {
     "iopub.execute_input": "2022-11-17T10:19:19.808569Z",
     "iopub.status.busy": "2022-11-17T10:19:19.808253Z",
     "iopub.status.idle": "2022-11-17T10:19:19.903022Z",
     "shell.execute_reply": "2022-11-17T10:19:19.901277Z"
    },
    "papermill": {
     "duration": 0.106996,
     "end_time": "2022-11-17T10:19:19.905800",
     "exception": false,
     "start_time": "2022-11-17T10:19:19.798804",
     "status": "completed"
    },
    "tags": []
   },
   "outputs": [
    {
     "name": "stdout",
     "output_type": "stream",
     "text": [
      "<class 'pandas.core.frame.DataFrame'>\n",
      "Int64Index: 160000 entries, 600955 to 216511\n",
      "Data columns (total 6 columns):\n",
      " #   Column  Non-Null Count   Dtype \n",
      "---  ------  --------------   ----- \n",
      " 0   target  160000 non-null  int64 \n",
      " 1   ids     160000 non-null  int64 \n",
      " 2   date    160000 non-null  object\n",
      " 3   flag    160000 non-null  object\n",
      " 4   user    160000 non-null  object\n",
      " 5   text    160000 non-null  object\n",
      "dtypes: int64(2), object(4)\n",
      "memory usage: 8.5+ MB\n"
     ]
    }
   ],
   "source": [
    "df.info() # shows the columns, and their types."
   ]
  },
  {
   "cell_type": "code",
   "execution_count": 5,
   "id": "fd59adc9",
   "metadata": {
    "execution": {
     "iopub.execute_input": "2022-11-17T10:19:19.926817Z",
     "iopub.status.busy": "2022-11-17T10:19:19.926529Z",
     "iopub.status.idle": "2022-11-17T10:19:19.932593Z",
     "shell.execute_reply": "2022-11-17T10:19:19.931601Z"
    },
    "papermill": {
     "duration": 0.019388,
     "end_time": "2022-11-17T10:19:19.934625",
     "exception": false,
     "start_time": "2022-11-17T10:19:19.915237",
     "status": "completed"
    },
    "tags": []
   },
   "outputs": [
    {
     "data": {
      "text/plain": [
       "(160000, 6)"
      ]
     },
     "execution_count": 5,
     "metadata": {},
     "output_type": "execute_result"
    }
   ],
   "source": [
    "df.shape"
   ]
  },
  {
   "cell_type": "code",
   "execution_count": 6,
   "id": "71a2eb6f",
   "metadata": {
    "execution": {
     "iopub.execute_input": "2022-11-17T10:19:19.955043Z",
     "iopub.status.busy": "2022-11-17T10:19:19.954306Z",
     "iopub.status.idle": "2022-11-17T10:19:20.336382Z",
     "shell.execute_reply": "2022-11-17T10:19:20.335331Z"
    },
    "papermill": {
     "duration": 0.394891,
     "end_time": "2022-11-17T10:19:20.338880",
     "exception": false,
     "start_time": "2022-11-17T10:19:19.943989",
     "status": "completed"
    },
    "tags": []
   },
   "outputs": [
    {
     "data": {
      "text/html": [
       "<div>\n",
       "<style scoped>\n",
       "    .dataframe tbody tr th:only-of-type {\n",
       "        vertical-align: middle;\n",
       "    }\n",
       "\n",
       "    .dataframe tbody tr th {\n",
       "        vertical-align: top;\n",
       "    }\n",
       "\n",
       "    .dataframe thead th {\n",
       "        text-align: right;\n",
       "    }\n",
       "</style>\n",
       "<table border=\"1\" class=\"dataframe\">\n",
       "  <thead>\n",
       "    <tr style=\"text-align: right;\">\n",
       "      <th></th>\n",
       "      <th>target</th>\n",
       "      <th>ids</th>\n",
       "      <th>date</th>\n",
       "      <th>flag</th>\n",
       "      <th>user</th>\n",
       "      <th>text</th>\n",
       "    </tr>\n",
       "  </thead>\n",
       "  <tbody>\n",
       "    <tr>\n",
       "      <th>count</th>\n",
       "      <td>160000.000000</td>\n",
       "      <td>1.600000e+05</td>\n",
       "      <td>160000</td>\n",
       "      <td>160000</td>\n",
       "      <td>160000</td>\n",
       "      <td>160000</td>\n",
       "    </tr>\n",
       "    <tr>\n",
       "      <th>unique</th>\n",
       "      <td>NaN</td>\n",
       "      <td>NaN</td>\n",
       "      <td>143799</td>\n",
       "      <td>1</td>\n",
       "      <td>123407</td>\n",
       "      <td>159430</td>\n",
       "    </tr>\n",
       "    <tr>\n",
       "      <th>top</th>\n",
       "      <td>NaN</td>\n",
       "      <td>NaN</td>\n",
       "      <td>Thu Jun 04 08:02:50 PDT 2009</td>\n",
       "      <td>NO_QUERY</td>\n",
       "      <td>lost_dog</td>\n",
       "      <td>isPlayer Has Died! Sorry</td>\n",
       "    </tr>\n",
       "    <tr>\n",
       "      <th>freq</th>\n",
       "      <td>NaN</td>\n",
       "      <td>NaN</td>\n",
       "      <td>5</td>\n",
       "      <td>160000</td>\n",
       "      <td>52</td>\n",
       "      <td>22</td>\n",
       "    </tr>\n",
       "    <tr>\n",
       "      <th>mean</th>\n",
       "      <td>2.006275</td>\n",
       "      <td>1.997689e+09</td>\n",
       "      <td>NaN</td>\n",
       "      <td>NaN</td>\n",
       "      <td>NaN</td>\n",
       "      <td>NaN</td>\n",
       "    </tr>\n",
       "    <tr>\n",
       "      <th>std</th>\n",
       "      <td>1.999996</td>\n",
       "      <td>1.943368e+08</td>\n",
       "      <td>NaN</td>\n",
       "      <td>NaN</td>\n",
       "      <td>NaN</td>\n",
       "      <td>NaN</td>\n",
       "    </tr>\n",
       "    <tr>\n",
       "      <th>min</th>\n",
       "      <td>0.000000</td>\n",
       "      <td>1.467812e+09</td>\n",
       "      <td>NaN</td>\n",
       "      <td>NaN</td>\n",
       "      <td>NaN</td>\n",
       "      <td>NaN</td>\n",
       "    </tr>\n",
       "    <tr>\n",
       "      <th>25%</th>\n",
       "      <td>0.000000</td>\n",
       "      <td>1.956560e+09</td>\n",
       "      <td>NaN</td>\n",
       "      <td>NaN</td>\n",
       "      <td>NaN</td>\n",
       "      <td>NaN</td>\n",
       "    </tr>\n",
       "    <tr>\n",
       "      <th>50%</th>\n",
       "      <td>4.000000</td>\n",
       "      <td>2.001936e+09</td>\n",
       "      <td>NaN</td>\n",
       "      <td>NaN</td>\n",
       "      <td>NaN</td>\n",
       "      <td>NaN</td>\n",
       "    </tr>\n",
       "    <tr>\n",
       "      <th>75%</th>\n",
       "      <td>4.000000</td>\n",
       "      <td>2.176930e+09</td>\n",
       "      <td>NaN</td>\n",
       "      <td>NaN</td>\n",
       "      <td>NaN</td>\n",
       "      <td>NaN</td>\n",
       "    </tr>\n",
       "    <tr>\n",
       "      <th>max</th>\n",
       "      <td>4.000000</td>\n",
       "      <td>2.329205e+09</td>\n",
       "      <td>NaN</td>\n",
       "      <td>NaN</td>\n",
       "      <td>NaN</td>\n",
       "      <td>NaN</td>\n",
       "    </tr>\n",
       "  </tbody>\n",
       "</table>\n",
       "</div>"
      ],
      "text/plain": [
       "               target           ids                          date      flag  \\\n",
       "count   160000.000000  1.600000e+05                        160000    160000   \n",
       "unique            NaN           NaN                        143799         1   \n",
       "top               NaN           NaN  Thu Jun 04 08:02:50 PDT 2009  NO_QUERY   \n",
       "freq              NaN           NaN                             5    160000   \n",
       "mean         2.006275  1.997689e+09                           NaN       NaN   \n",
       "std          1.999996  1.943368e+08                           NaN       NaN   \n",
       "min          0.000000  1.467812e+09                           NaN       NaN   \n",
       "25%          0.000000  1.956560e+09                           NaN       NaN   \n",
       "50%          4.000000  2.001936e+09                           NaN       NaN   \n",
       "75%          4.000000  2.176930e+09                           NaN       NaN   \n",
       "max          4.000000  2.329205e+09                           NaN       NaN   \n",
       "\n",
       "            user                       text  \n",
       "count     160000                     160000  \n",
       "unique    123407                     159430  \n",
       "top     lost_dog  isPlayer Has Died! Sorry   \n",
       "freq          52                         22  \n",
       "mean         NaN                        NaN  \n",
       "std          NaN                        NaN  \n",
       "min          NaN                        NaN  \n",
       "25%          NaN                        NaN  \n",
       "50%          NaN                        NaN  \n",
       "75%          NaN                        NaN  \n",
       "max          NaN                        NaN  "
      ]
     },
     "execution_count": 6,
     "metadata": {},
     "output_type": "execute_result"
    }
   ],
   "source": [
    "df.describe(include='all') # To statistical measures of the columns"
   ]
  },
  {
   "cell_type": "code",
   "execution_count": 7,
   "id": "3ecaa333",
   "metadata": {
    "execution": {
     "iopub.execute_input": "2022-11-17T10:19:20.360368Z",
     "iopub.status.busy": "2022-11-17T10:19:20.360045Z",
     "iopub.status.idle": "2022-11-17T10:19:20.598063Z",
     "shell.execute_reply": "2022-11-17T10:19:20.597147Z"
    },
    "papermill": {
     "duration": 0.25069,
     "end_time": "2022-11-17T10:19:20.600495",
     "exception": false,
     "start_time": "2022-11-17T10:19:20.349805",
     "status": "completed"
    },
    "tags": []
   },
   "outputs": [
    {
     "data": {
      "image/png": "[encoded data removed]",
      "text/plain": [
       "<Figure size 432x288 with 1 Axes>"
      ]
     },
     "metadata": {
      "needs_background": "light"
     },
     "output_type": "display_data"
    }
   ],
   "source": [
    "sns.countplot(x=df['target']); # shows a count plot refering to the number of 0 and 4 in the column"
   ]
  },
  {
   "cell_type": "code",
   "execution_count": 8,
   "id": "98c6711a",
   "metadata": {
    "execution": {
     "iopub.execute_input": "2022-11-17T10:19:20.621217Z",
     "iopub.status.busy": "2022-11-17T10:19:20.620916Z",
     "iopub.status.idle": "2022-11-17T10:19:20.632791Z",
     "shell.execute_reply": "2022-11-17T10:19:20.631879Z"
    },
    "papermill": {
     "duration": 0.024524,
     "end_time": "2022-11-17T10:19:20.634922",
     "exception": false,
     "start_time": "2022-11-17T10:19:20.610398",
     "status": "completed"
    },
    "tags": []
   },
   "outputs": [],
   "source": [
    "df = df.drop(['ids', 'date', 'flag','user'], axis = 1) # dropping unnecessary columns"
   ]
  },
  {
   "cell_type": "code",
   "execution_count": 9,
   "id": "0bedb1e1",
   "metadata": {
    "execution": {
     "iopub.execute_input": "2022-11-17T10:19:20.657154Z",
     "iopub.status.busy": "2022-11-17T10:19:20.655515Z",
     "iopub.status.idle": "2022-11-17T10:19:20.666503Z",
     "shell.execute_reply": "2022-11-17T10:19:20.665617Z"
    },
    "papermill": {
     "duration": 0.023988,
     "end_time": "2022-11-17T10:19:20.668804",
     "exception": false,
     "start_time": "2022-11-17T10:19:20.644816",
     "status": "completed"
    },
    "tags": []
   },
   "outputs": [
    {
     "data": {
      "text/html": [
       "<div>\n",
       "<style scoped>\n",
       "    .dataframe tbody tr th:only-of-type {\n",
       "        vertical-align: middle;\n",
       "    }\n",
       "\n",
       "    .dataframe tbody tr th {\n",
       "        vertical-align: top;\n",
       "    }\n",
       "\n",
       "    .dataframe thead th {\n",
       "        text-align: right;\n",
       "    }\n",
       "</style>\n",
       "<table border=\"1\" class=\"dataframe\">\n",
       "  <thead>\n",
       "    <tr style=\"text-align: right;\">\n",
       "      <th></th>\n",
       "      <th>target</th>\n",
       "      <th>text</th>\n",
       "    </tr>\n",
       "  </thead>\n",
       "  <tbody>\n",
       "    <tr>\n",
       "      <th>600955</th>\n",
       "      <td>0</td>\n",
       "      <td>everyday that passes makes it hurt a little mo...</td>\n",
       "    </tr>\n",
       "    <tr>\n",
       "      <th>341468</th>\n",
       "      <td>0</td>\n",
       "      <td>@electric_blueee no worries. Going to give tim...</td>\n",
       "    </tr>\n",
       "    <tr>\n",
       "      <th>1247337</th>\n",
       "      <td>4</td>\n",
       "      <td>June gloom is no match for me.  Getting lots d...</td>\n",
       "    </tr>\n",
       "    <tr>\n",
       "      <th>749746</th>\n",
       "      <td>0</td>\n",
       "      <td>Is anyone even listening to me? Hello? Anybody...</td>\n",
       "    </tr>\n",
       "    <tr>\n",
       "      <th>99865</th>\n",
       "      <td>0</td>\n",
       "      <td>I hate it!!!! Tanggal si Danny!!!!! Nooooo!!!!...</td>\n",
       "    </tr>\n",
       "  </tbody>\n",
       "</table>\n",
       "</div>"
      ],
      "text/plain": [
       "         target                                               text\n",
       "600955        0  everyday that passes makes it hurt a little mo...\n",
       "341468        0  @electric_blueee no worries. Going to give tim...\n",
       "1247337       4  June gloom is no match for me.  Getting lots d...\n",
       "749746        0  Is anyone even listening to me? Hello? Anybody...\n",
       "99865         0  I hate it!!!! Tanggal si Danny!!!!! Nooooo!!!!..."
      ]
     },
     "execution_count": 9,
     "metadata": {},
     "output_type": "execute_result"
    }
   ],
   "source": [
    "df.head()"
   ]
  },
  {
   "cell_type": "markdown",
   "id": "967d055a",
   "metadata": {
    "papermill": {
     "duration": 0.009628,
     "end_time": "2022-11-17T10:19:20.688068",
     "exception": false,
     "start_time": "2022-11-17T10:19:20.678440",
     "status": "completed"
    },
    "tags": []
   },
   "source": [
    "<a id=\"4\"></a> \n",
    "## 4. Preprocessing"
   ]
  },
  {
   "cell_type": "markdown",
   "id": "4f1747f7",
   "metadata": {
    "papermill": {
     "duration": 0.009744,
     "end_time": "2022-11-17T10:19:20.707763",
     "exception": false,
     "start_time": "2022-11-17T10:19:20.698019",
     "status": "completed"
    },
    "tags": []
   },
   "source": [
    "Here 0 represents as negative and 4 as positive so lets change 4 to 1."
   ]
  },
  {
   "cell_type": "code",
   "execution_count": 10,
   "id": "960093b9",
   "metadata": {
    "execution": {
     "iopub.execute_input": "2022-11-17T10:19:20.729586Z",
     "iopub.status.busy": "2022-11-17T10:19:20.728771Z",
     "iopub.status.idle": "2022-11-17T10:19:20.736280Z",
     "shell.execute_reply": "2022-11-17T10:19:20.735314Z"
    },
    "papermill": {
     "duration": 0.020762,
     "end_time": "2022-11-17T10:19:20.738569",
     "exception": false,
     "start_time": "2022-11-17T10:19:20.717807",
     "status": "completed"
    },
    "tags": []
   },
   "outputs": [],
   "source": [
    "df['target']=df['target'].replace(4,1) "
   ]
  },
  {
   "cell_type": "code",
   "execution_count": 11,
   "id": "8e813124",
   "metadata": {
    "execution": {
     "iopub.execute_input": "2022-11-17T10:19:20.759403Z",
     "iopub.status.busy": "2022-11-17T10:19:20.759115Z",
     "iopub.status.idle": "2022-11-17T10:19:20.764110Z",
     "shell.execute_reply": "2022-11-17T10:19:20.763057Z"
    },
    "papermill": {
     "duration": 0.01802,
     "end_time": "2022-11-17T10:19:20.766424",
     "exception": false,
     "start_time": "2022-11-17T10:19:20.748404",
     "status": "completed"
    },
    "tags": []
   },
   "outputs": [],
   "source": [
    "data = df['text']\n",
    "labels = np.array(df['target'])"
   ]
  },
  {
   "cell_type": "code",
   "execution_count": 12,
   "id": "273493fa",
   "metadata": {
    "execution": {
     "iopub.execute_input": "2022-11-17T10:19:20.787172Z",
     "iopub.status.busy": "2022-11-17T10:19:20.786899Z",
     "iopub.status.idle": "2022-11-17T10:19:20.793281Z",
     "shell.execute_reply": "2022-11-17T10:19:20.792191Z"
    },
    "papermill": {
     "duration": 0.020037,
     "end_time": "2022-11-17T10:19:20.796341",
     "exception": false,
     "start_time": "2022-11-17T10:19:20.776304",
     "status": "completed"
    },
    "tags": []
   },
   "outputs": [
    {
     "data": {
      "text/plain": [
       "'@electric_blueee no worries. Going to give time for revision in class so you can ask me then. Rep sport cancelled... again '"
      ]
     },
     "execution_count": 12,
     "metadata": {},
     "output_type": "execute_result"
    }
   ],
   "source": [
    "data.iloc[1] # displaying a row of the data"
   ]
  },
  {
   "cell_type": "code",
   "execution_count": 13,
   "id": "5253e098",
   "metadata": {
    "execution": {
     "iopub.execute_input": "2022-11-17T10:19:20.838438Z",
     "iopub.status.busy": "2022-11-17T10:19:20.837614Z",
     "iopub.status.idle": "2022-11-17T10:19:20.850097Z",
     "shell.execute_reply": "2022-11-17T10:19:20.849210Z"
    },
    "papermill": {
     "duration": 0.025566,
     "end_time": "2022-11-17T10:19:20.852010",
     "exception": false,
     "start_time": "2022-11-17T10:19:20.826444",
     "status": "completed"
    },
    "tags": []
   },
   "outputs": [],
   "source": [
    "# this function is copied from another kernel. Don't know who is the original author of it.\n",
    "stop = set(stopwords.words('english'))\n",
    "punctuation = list(string.punctuation)\n",
    "stop.update(punctuation)\n",
    "\n",
    "#Removing the stopwords from text\n",
    "def split_into_words(text):\n",
    "    # split into words by white space\n",
    "    words = text.split()\n",
    "    return words\n",
    "\n",
    "def to_lower_case(words):\n",
    "    # convert to lower case\n",
    "    words = [word.lower() for word in words]\n",
    "    return words\n",
    "\n",
    "def remove_punctuation(words):\n",
    "    # prepare regex for char filtering\n",
    "    re_punc = re.compile('[%s]' % re.escape(string.punctuation))\n",
    "    # remove punctuation from each word\n",
    "    stripped = [re_punc.sub('', w) for w in words]\n",
    "    return stripped\n",
    "\n",
    "def keep_alphabetic(words):\n",
    "    # remove remaining tokens that are not alphabetic\n",
    "    words = [word for word in words if word.isalpha()]\n",
    "    return words\n",
    "\n",
    "def remove_stopwords(words):\n",
    "    # filter out stop words\n",
    "    stop_words = set(stopwords.words('english'))\n",
    "    words = [w for w in words if not w in stop_words]\n",
    "    return words\n",
    "\n",
    "def to_sentence(words):\n",
    "    # join words to a sentence\n",
    "    return ' '.join(words)\n",
    "def tweet(words):\n",
    "    tweet_tokenizer = nltk.tokenize.TweetTokenizer(strip_handles=True,reduce_len=True)\n",
    "    tweet = tweet_tokenizer.tokenize(words)\n",
    "    return tweet\n",
    "        \n",
    "\n",
    "#Removing the noisy text\n",
    "def denoise_text(text):\n",
    "    words = split_into_words(text)\n",
    "    words = to_lower_case(words)\n",
    "    words = remove_punctuation(words)\n",
    "    words = keep_alphabetic(words)\n",
    "    words = remove_stopwords(words)\n",
    "    return to_sentence(words)"
   ]
  },
  {
   "cell_type": "code",
   "execution_count": 14,
   "id": "1d313553",
   "metadata": {
    "execution": {
     "iopub.execute_input": "2022-11-17T10:19:20.873616Z",
     "iopub.status.busy": "2022-11-17T10:19:20.872801Z",
     "iopub.status.idle": "2022-11-17T10:19:45.687730Z",
     "shell.execute_reply": "2022-11-17T10:19:45.686667Z"
    },
    "papermill": {
     "duration": 24.828463,
     "end_time": "2022-11-17T10:19:45.690496",
     "exception": false,
     "start_time": "2022-11-17T10:19:20.862033",
     "status": "completed"
    },
    "tags": []
   },
   "outputs": [],
   "source": [
    "data = data.apply(denoise_text)"
   ]
  },
  {
   "cell_type": "markdown",
   "id": "47ff08f7",
   "metadata": {
    "papermill": {
     "duration": 0.009565,
     "end_time": "2022-11-17T10:19:45.710355",
     "exception": false,
     "start_time": "2022-11-17T10:19:45.700790",
     "status": "completed"
    },
    "tags": []
   },
   "source": [
    "To see the difference in before and after applying stopwords function."
   ]
  },
  {
   "cell_type": "code",
   "execution_count": 15,
   "id": "846c3519",
   "metadata": {
    "execution": {
     "iopub.execute_input": "2022-11-17T10:19:45.730452Z",
     "iopub.status.busy": "2022-11-17T10:19:45.730125Z",
     "iopub.status.idle": "2022-11-17T10:19:45.736116Z",
     "shell.execute_reply": "2022-11-17T10:19:45.735101Z"
    },
    "papermill": {
     "duration": 0.019617,
     "end_time": "2022-11-17T10:19:45.739328",
     "exception": false,
     "start_time": "2022-11-17T10:19:45.719711",
     "status": "completed"
    },
    "tags": []
   },
   "outputs": [
    {
     "name": "stdout",
     "output_type": "stream",
     "text": [
      "Before: ['everyday that passes makes it hurt a little more... I really liked him... ', '@electric_blueee no worries. Going to give time for revision in class so you can ask me then. Rep sport cancelled... again ']\n",
      "---\n",
      "After: ['everyday passes makes hurt little really liked', 'electricblueee worries going give time revision class ask rep sport cancelled']\n"
     ]
    }
   ],
   "source": [
    "print('Before: {}'. format(list(df['text'][:2])))\n",
    "print('---')\n",
    "print('After: {}'. format(list(data[:2])))"
   ]
  },
  {
   "cell_type": "code",
   "execution_count": 16,
   "id": "5363a5f5",
   "metadata": {
    "execution": {
     "iopub.execute_input": "2022-11-17T10:19:45.760814Z",
     "iopub.status.busy": "2022-11-17T10:19:45.760521Z",
     "iopub.status.idle": "2022-11-17T10:19:45.765903Z",
     "shell.execute_reply": "2022-11-17T10:19:45.764942Z"
    },
    "papermill": {
     "duration": 0.018646,
     "end_time": "2022-11-17T10:19:45.768509",
     "exception": false,
     "start_time": "2022-11-17T10:19:45.749863",
     "status": "completed"
    },
    "tags": []
   },
   "outputs": [
    {
     "name": "stdout",
     "output_type": "stream",
     "text": [
      "dataset contains 160000 examples\n",
      "\n",
      "Text of second example should look like this:  electricblueee worries going give time revision class ask rep sport cancelled\n",
      "\n",
      "Text of fourth example should look like this:  anyone even listening hello anybody followers ignoring like else thought people would different\n",
      "\n",
      "Labels of last 5 examples should look like this:\n",
      "[0 1 1 0 0]\n"
     ]
    }
   ],
   "source": [
    "print(f\"dataset contains {len(data)} examples\\n\")\n",
    "\n",
    "print(f\"Text of second example should look like this:  {data.iloc[1]}\\n\")\n",
    "print(f\"Text of fourth example should look like this:  {data.iloc[3]}\")\n",
    "\n",
    "print(f\"\\nLabels of last 5 examples should look like this:\\n{labels[-5:]}\")"
   ]
  },
  {
   "cell_type": "markdown",
   "id": "72054b15",
   "metadata": {
    "papermill": {
     "duration": 0.009253,
     "end_time": "2022-11-17T10:19:45.788490",
     "exception": false,
     "start_time": "2022-11-17T10:19:45.779237",
     "status": "completed"
    },
    "tags": []
   },
   "source": [
    "## Splitting the Data"
   ]
  },
  {
   "cell_type": "code",
   "execution_count": 17,
   "id": "c745978a",
   "metadata": {
    "execution": {
     "iopub.execute_input": "2022-11-17T10:19:45.808480Z",
     "iopub.status.busy": "2022-11-17T10:19:45.808208Z",
     "iopub.status.idle": "2022-11-17T10:19:45.862743Z",
     "shell.execute_reply": "2022-11-17T10:19:45.861871Z"
    },
    "papermill": {
     "duration": 0.066669,
     "end_time": "2022-11-17T10:19:45.864721",
     "exception": false,
     "start_time": "2022-11-17T10:19:45.798052",
     "status": "completed"
    },
    "tags": []
   },
   "outputs": [],
   "source": [
    "# Split in training validation and test sets\n",
    "X_train, X_test, y_train, y_test = test = train_test_split(data, labels,test_size=0.20,\n",
    "                                                           random_state=1,\n",
    "                                                           stratify = labels)"
   ]
  },
  {
   "cell_type": "markdown",
   "id": "78fef78f",
   "metadata": {
    "papermill": {
     "duration": 0.009397,
     "end_time": "2022-11-17T10:19:45.884036",
     "exception": false,
     "start_time": "2022-11-17T10:19:45.874639",
     "status": "completed"
    },
    "tags": []
   },
   "source": [
    "<a id=\"5\"></a> \n",
    "## 5. Tokenization"
   ]
  },
  {
   "cell_type": "code",
   "execution_count": 18,
   "id": "8bf88074",
   "metadata": {
    "execution": {
     "iopub.execute_input": "2022-11-17T10:19:45.906002Z",
     "iopub.status.busy": "2022-11-17T10:19:45.904527Z",
     "iopub.status.idle": "2022-11-17T10:19:47.748092Z",
     "shell.execute_reply": "2022-11-17T10:19:47.747155Z"
    },
    "papermill": {
     "duration": 1.856624,
     "end_time": "2022-11-17T10:19:47.750343",
     "exception": false,
     "start_time": "2022-11-17T10:19:45.893719",
     "status": "completed"
    },
    "tags": []
   },
   "outputs": [
    {
     "data": {
      "text/plain": [
       "116167"
      ]
     },
     "execution_count": 18,
     "metadata": {},
     "output_type": "execute_result"
    }
   ],
   "source": [
    "# lets take 10k words in num_words\n",
    "tokenizer = Tokenizer(num_words=10000, oov_token = '<OOV>')\n",
    "tokenizer.fit_on_texts(X_train)\n",
    "word_index = tokenizer.word_index\n",
    "VOCAB_SIZE = len(word_index)+1\n",
    "VOCAB_SIZE"
   ]
  },
  {
   "cell_type": "code",
   "execution_count": 19,
   "id": "5e0ac35f",
   "metadata": {
    "execution": {
     "iopub.execute_input": "2022-11-17T10:19:47.772884Z",
     "iopub.status.busy": "2022-11-17T10:19:47.771212Z",
     "iopub.status.idle": "2022-11-17T10:19:47.816277Z",
     "shell.execute_reply": "2022-11-17T10:19:47.815438Z"
    },
    "papermill": {
     "duration": 0.058106,
     "end_time": "2022-11-17T10:19:47.818397",
     "exception": false,
     "start_time": "2022-11-17T10:19:47.760291",
     "status": "completed"
    },
    "tags": []
   },
   "outputs": [],
   "source": [
    "maxlen = max([len(x) for x in X_train]) # return 175 which is too big for tweets data.\n",
    "maxlen = 50"
   ]
  },
  {
   "cell_type": "markdown",
   "id": "d2493b0b",
   "metadata": {
    "papermill": {
     "duration": 0.009464,
     "end_time": "2022-11-17T10:19:47.837630",
     "exception": false,
     "start_time": "2022-11-17T10:19:47.828166",
     "status": "completed"
    },
    "tags": []
   },
   "source": [
    "### Sequencing and Padding"
   ]
  },
  {
   "cell_type": "code",
   "execution_count": 20,
   "id": "d7242a8a",
   "metadata": {
    "execution": {
     "iopub.execute_input": "2022-11-17T10:19:47.858766Z",
     "iopub.status.busy": "2022-11-17T10:19:47.857956Z",
     "iopub.status.idle": "2022-11-17T10:19:50.506734Z",
     "shell.execute_reply": "2022-11-17T10:19:50.505613Z"
    },
    "papermill": {
     "duration": 2.662343,
     "end_time": "2022-11-17T10:19:50.509675",
     "exception": false,
     "start_time": "2022-11-17T10:19:47.847332",
     "status": "completed"
    },
    "tags": []
   },
   "outputs": [],
   "source": [
    "train_sequences = tokenizer.texts_to_sequences(X_train)\n",
    "train_padded_sequences = pad_sequences(train_sequences,maxlen=maxlen,padding='post',truncating='post')\n",
    "test_sequences = tokenizer.texts_to_sequences(X_test)\n",
    "test_padded_sequences = pad_sequences(test_sequences,maxlen=maxlen,padding='post',truncating='post')"
   ]
  },
  {
   "cell_type": "code",
   "execution_count": 21,
   "id": "6370fb2b",
   "metadata": {
    "execution": {
     "iopub.execute_input": "2022-11-17T10:19:50.533817Z",
     "iopub.status.busy": "2022-11-17T10:19:50.533475Z",
     "iopub.status.idle": "2022-11-17T10:19:50.540312Z",
     "shell.execute_reply": "2022-11-17T10:19:50.539219Z"
    },
    "papermill": {
     "duration": 0.022375,
     "end_time": "2022-11-17T10:19:50.543841",
     "exception": false,
     "start_time": "2022-11-17T10:19:50.521466",
     "status": "completed"
    },
    "tags": []
   },
   "outputs": [
    {
     "data": {
      "text/plain": [
       "50"
      ]
     },
     "execution_count": 21,
     "metadata": {},
     "output_type": "execute_result"
    }
   ],
   "source": [
    "len(train_padded_sequences[0])"
   ]
  },
  {
   "cell_type": "markdown",
   "id": "dd141386",
   "metadata": {
    "papermill": {
     "duration": 0.010785,
     "end_time": "2022-11-17T10:19:50.565609",
     "exception": false,
     "start_time": "2022-11-17T10:19:50.554824",
     "status": "completed"
    },
    "tags": []
   },
   "source": [
    "<a id=\"6\"></a> \n",
    "## 6. Model Training and Results"
   ]
  },
  {
   "cell_type": "code",
   "execution_count": 22,
   "id": "699dcf8a",
   "metadata": {
    "execution": {
     "iopub.execute_input": "2022-11-17T10:19:50.590456Z",
     "iopub.status.busy": "2022-11-17T10:19:50.588677Z",
     "iopub.status.idle": "2022-11-17T10:19:50.594466Z",
     "shell.execute_reply": "2022-11-17T10:19:50.593511Z"
    },
    "papermill": {
     "duration": 0.020211,
     "end_time": "2022-11-17T10:19:50.596898",
     "exception": false,
     "start_time": "2022-11-17T10:19:50.576687",
     "status": "completed"
    },
    "tags": []
   },
   "outputs": [],
   "source": [
    "embedding_dim = 32"
   ]
  },
  {
   "cell_type": "code",
   "execution_count": 23,
   "id": "c3ed9e43",
   "metadata": {
    "execution": {
     "iopub.execute_input": "2022-11-17T10:19:50.620294Z",
     "iopub.status.busy": "2022-11-17T10:19:50.619982Z",
     "iopub.status.idle": "2022-11-17T10:19:55.230287Z",
     "shell.execute_reply": "2022-11-17T10:19:55.229307Z"
    },
    "papermill": {
     "duration": 4.625194,
     "end_time": "2022-11-17T10:19:55.233102",
     "exception": false,
     "start_time": "2022-11-17T10:19:50.607908",
     "status": "completed"
    },
    "tags": []
   },
   "outputs": [
    {
     "name": "stderr",
     "output_type": "stream",
     "text": [
      "2022-11-17 10:19:50.802082: I tensorflow/stream_executor/cuda/cuda_gpu_executor.cc:937] successful NUMA node read from SysFS had negative value (-1), but there must be at least one NUMA node, so returning NUMA node zero\n",
      "2022-11-17 10:19:50.803523: I tensorflow/stream_executor/cuda/cuda_gpu_executor.cc:937] successful NUMA node read from SysFS had negative value (-1), but there must be at least one NUMA node, so returning NUMA node zero\n",
      "2022-11-17 10:19:50.953025: I tensorflow/stream_executor/cuda/cuda_gpu_executor.cc:937] successful NUMA node read from SysFS had negative value (-1), but there must be at least one NUMA node, so returning NUMA node zero\n",
      "2022-11-17 10:19:50.954334: I tensorflow/stream_executor/cuda/cuda_gpu_executor.cc:937] successful NUMA node read from SysFS had negative value (-1), but there must be at least one NUMA node, so returning NUMA node zero\n",
      "2022-11-17 10:19:50.955580: I tensorflow/stream_executor/cuda/cuda_gpu_executor.cc:937] successful NUMA node read from SysFS had negative value (-1), but there must be at least one NUMA node, so returning NUMA node zero\n",
      "2022-11-17 10:19:50.956930: I tensorflow/stream_executor/cuda/cuda_gpu_executor.cc:937] successful NUMA node read from SysFS had negative value (-1), but there must be at least one NUMA node, so returning NUMA node zero\n",
      "2022-11-17 10:19:50.959388: I tensorflow/core/platform/cpu_feature_guard.cc:142] This TensorFlow binary is optimized with oneAPI Deep Neural Network Library (oneDNN) to use the following CPU instructions in performance-critical operations:  AVX2 AVX512F FMA\n",
      "To enable them in other operations, rebuild TensorFlow with the appropriate compiler flags.\n",
      "2022-11-17 10:19:51.309212: I tensorflow/stream_executor/cuda/cuda_gpu_executor.cc:937] successful NUMA node read from SysFS had negative value (-1), but there must be at least one NUMA node, so returning NUMA node zero\n",
      "2022-11-17 10:19:51.310488: I tensorflow/stream_executor/cuda/cuda_gpu_executor.cc:937] successful NUMA node read from SysFS had negative value (-1), but there must be at least one NUMA node, so returning NUMA node zero\n",
      "2022-11-17 10:19:51.311594: I tensorflow/stream_executor/cuda/cuda_gpu_executor.cc:937] successful NUMA node read from SysFS had negative value (-1), but there must be at least one NUMA node, so returning NUMA node zero\n",
      "2022-11-17 10:19:51.312583: I tensorflow/stream_executor/cuda/cuda_gpu_executor.cc:937] successful NUMA node read from SysFS had negative value (-1), but there must be at least one NUMA node, so returning NUMA node zero\n",
      "2022-11-17 10:19:51.313653: I tensorflow/stream_executor/cuda/cuda_gpu_executor.cc:937] successful NUMA node read from SysFS had negative value (-1), but there must be at least one NUMA node, so returning NUMA node zero\n",
      "2022-11-17 10:19:51.314783: I tensorflow/stream_executor/cuda/cuda_gpu_executor.cc:937] successful NUMA node read from SysFS had negative value (-1), but there must be at least one NUMA node, so returning NUMA node zero\n",
      "2022-11-17 10:19:54.352950: I tensorflow/stream_executor/cuda/cuda_gpu_executor.cc:937] successful NUMA node read from SysFS had negative value (-1), but there must be at least one NUMA node, so returning NUMA node zero\n",
      "2022-11-17 10:19:54.354410: I tensorflow/stream_executor/cuda/cuda_gpu_executor.cc:937] successful NUMA node read from SysFS had negative value (-1), but there must be at least one NUMA node, so returning NUMA node zero\n",
      "2022-11-17 10:19:54.355382: I tensorflow/stream_executor/cuda/cuda_gpu_executor.cc:937] successful NUMA node read from SysFS had negative value (-1), but there must be at least one NUMA node, so returning NUMA node zero\n",
      "2022-11-17 10:19:54.356574: I tensorflow/stream_executor/cuda/cuda_gpu_executor.cc:937] successful NUMA node read from SysFS had negative value (-1), but there must be at least one NUMA node, so returning NUMA node zero\n",
      "2022-11-17 10:19:54.357514: I tensorflow/stream_executor/cuda/cuda_gpu_executor.cc:937] successful NUMA node read from SysFS had negative value (-1), but there must be at least one NUMA node, so returning NUMA node zero\n",
      "2022-11-17 10:19:54.358407: I tensorflow/core/common_runtime/gpu/gpu_device.cc:1510] Created device /job:localhost/replica:0/task:0/device:GPU:0 with 13789 MB memory:  -> device: 0, name: Tesla T4, pci bus id: 0000:00:04.0, compute capability: 7.5\n",
      "2022-11-17 10:19:54.361443: I tensorflow/stream_executor/cuda/cuda_gpu_executor.cc:937] successful NUMA node read from SysFS had negative value (-1), but there must be at least one NUMA node, so returning NUMA node zero\n",
      "2022-11-17 10:19:54.362464: I tensorflow/core/common_runtime/gpu/gpu_device.cc:1510] Created device /job:localhost/replica:0/task:0/device:GPU:1 with 13789 MB memory:  -> device: 1, name: Tesla T4, pci bus id: 0000:00:05.0, compute capability: 7.5\n"
     ]
    }
   ],
   "source": [
    "model = tf.keras.Sequential([\n",
    "        tf.keras.layers.Embedding(VOCAB_SIZE+1, embedding_dim, input_length=maxlen),\n",
    "        tf.keras.layers.Bidirectional(tf.keras.layers.LSTM(16)),\n",
    "        tf.keras.layers.Flatten(),\n",
    "        tf.keras.layers.BatchNormalization(),\n",
    "        tf.keras.layers.Dropout(0.30),\n",
    "        tf.keras.layers.Dense(embedding_dim,activation='relu'),\n",
    "        tf.keras.layers.BatchNormalization(),\n",
    "        tf.keras.layers.Dropout(0.30),\n",
    "        tf.keras.layers.Dense(8,activation='relu'),\n",
    "        tf.keras.layers.Dense(1,activation='sigmoid'),\n",
    "    ])\n",
    "\n",
    "model.compile(loss = 'binary_crossentropy',\n",
    "                optimizer = 'adam',\n",
    "                metrics = ['accuracy'])"
   ]
  },
  {
   "cell_type": "code",
   "execution_count": 24,
   "id": "ca202da3",
   "metadata": {
    "execution": {
     "iopub.execute_input": "2022-11-17T10:19:55.256786Z",
     "iopub.status.busy": "2022-11-17T10:19:55.256482Z",
     "iopub.status.idle": "2022-11-17T10:19:55.263281Z",
     "shell.execute_reply": "2022-11-17T10:19:55.262291Z"
    },
    "papermill": {
     "duration": 0.021374,
     "end_time": "2022-11-17T10:19:55.266068",
     "exception": false,
     "start_time": "2022-11-17T10:19:55.244694",
     "status": "completed"
    },
    "tags": []
   },
   "outputs": [
    {
     "name": "stdout",
     "output_type": "stream",
     "text": [
      "Model: \"sequential\"\n",
      "_________________________________________________________________\n",
      "Layer (type)                 Output Shape              Param #   \n",
      "=================================================================\n",
      "embedding (Embedding)        (None, 50, 32)            3717376   \n",
      "_________________________________________________________________\n",
      "bidirectional (Bidirectional (None, 32)                6272      \n",
      "_________________________________________________________________\n",
      "flatten (Flatten)            (None, 32)                0         \n",
      "_________________________________________________________________\n",
      "batch_normalization (BatchNo (None, 32)                128       \n",
      "_________________________________________________________________\n",
      "dropout (Dropout)            (None, 32)                0         \n",
      "_________________________________________________________________\n",
      "dense (Dense)                (None, 32)                1056      \n",
      "_________________________________________________________________\n",
      "batch_normalization_1 (Batch (None, 32)                128       \n",
      "_________________________________________________________________\n",
      "dropout_1 (Dropout)          (None, 32)                0         \n",
      "_________________________________________________________________\n",
      "dense_1 (Dense)              (None, 8)                 264       \n",
      "_________________________________________________________________\n",
      "dense_2 (Dense)              (None, 1)                 9         \n",
      "=================================================================\n",
      "Total params: 3,725,233\n",
      "Trainable params: 3,725,105\n",
      "Non-trainable params: 128\n",
      "_________________________________________________________________\n"
     ]
    }
   ],
   "source": [
    "#summary of the model.\n",
    "model.summary()"
   ]
  },
  {
   "cell_type": "code",
   "execution_count": 25,
   "id": "7f22c1c2",
   "metadata": {
    "execution": {
     "iopub.execute_input": "2022-11-17T10:19:55.289787Z",
     "iopub.status.busy": "2022-11-17T10:19:55.288242Z",
     "iopub.status.idle": "2022-11-17T10:27:19.890681Z",
     "shell.execute_reply": "2022-11-17T10:27:19.889542Z"
    },
    "papermill": {
     "duration": 444.616233,
     "end_time": "2022-11-17T10:27:19.893161",
     "exception": false,
     "start_time": "2022-11-17T10:19:55.276928",
     "status": "completed"
    },
    "tags": []
   },
   "outputs": [
    {
     "name": "stderr",
     "output_type": "stream",
     "text": [
      "2022-11-17 10:19:55.579772: I tensorflow/compiler/mlir/mlir_graph_optimization_pass.cc:185] None of the MLIR Optimization Passes are enabled (registered 2)\n"
     ]
    },
    {
     "name": "stdout",
     "output_type": "stream",
     "text": [
      "Epoch 1/3\n"
     ]
    },
    {
     "name": "stderr",
     "output_type": "stream",
     "text": [
      "2022-11-17 10:19:59.380323: I tensorflow/stream_executor/cuda/cuda_dnn.cc:369] Loaded cuDNN version 8005\n"
     ]
    },
    {
     "name": "stdout",
     "output_type": "stream",
     "text": [
      "4000/4000 [==============================] - 160s 38ms/step - loss: 0.5529 - accuracy: 0.7201 - val_loss: 1.6349 - val_accuracy: 0.5463\n",
      "Epoch 2/3\n",
      "4000/4000 [==============================] - 124s 31ms/step - loss: 0.4820 - accuracy: 0.7714 - val_loss: 0.4850 - val_accuracy: 0.7670\n",
      "Epoch 3/3\n",
      "4000/4000 [==============================] - 101s 25ms/step - loss: 0.4537 - accuracy: 0.7873 - val_loss: 0.4849 - val_accuracy: 0.7690\n"
     ]
    }
   ],
   "source": [
    "# Training the model we created above. \n",
    "history =    model.fit(train_padded_sequences,\n",
    "                                               y_train,\n",
    "                                               validation_data = (test_padded_sequences, y_test),\n",
    "                                               epochs = 3)"
   ]
  },
  {
   "cell_type": "code",
   "execution_count": 26,
   "id": "b48c58ac",
   "metadata": {
    "execution": {
     "iopub.execute_input": "2022-11-17T10:27:20.548072Z",
     "iopub.status.busy": "2022-11-17T10:27:20.547709Z",
     "iopub.status.idle": "2022-11-17T10:27:20.553522Z",
     "shell.execute_reply": "2022-11-17T10:27:20.552321Z"
    },
    "papermill": {
     "duration": 0.318402,
     "end_time": "2022-11-17T10:27:20.556229",
     "exception": false,
     "start_time": "2022-11-17T10:27:20.237827",
     "status": "completed"
    },
    "tags": []
   },
   "outputs": [
    {
     "name": "stdout",
     "output_type": "stream",
     "text": [
      "todays gonna looong day label: ; 0\n"
     ]
    }
   ],
   "source": [
    "print(X_test.iloc[99],'label: ;',y_test[99])"
   ]
  },
  {
   "cell_type": "code",
   "execution_count": 27,
   "id": "0c976768",
   "metadata": {
    "execution": {
     "iopub.execute_input": "2022-11-17T10:27:21.396022Z",
     "iopub.status.busy": "2022-11-17T10:27:21.395645Z",
     "iopub.status.idle": "2022-11-17T10:27:22.669447Z",
     "shell.execute_reply": "2022-11-17T10:27:22.668382Z"
    },
    "papermill": {
     "duration": 1.654122,
     "end_time": "2022-11-17T10:27:22.671596",
     "exception": false,
     "start_time": "2022-11-17T10:27:21.017474",
     "status": "completed"
    },
    "tags": []
   },
   "outputs": [
    {
     "data": {
      "text/plain": [
       "'todays gonna looong day <OOV> <OOV> <OOV> <OOV> <OOV> <OOV> <OOV> <OOV> <OOV> <OOV> <OOV> <OOV> <OOV> <OOV> <OOV> <OOV> <OOV> <OOV> <OOV> <OOV> <OOV> <OOV> <OOV> <OOV> <OOV> <OOV> <OOV> <OOV> <OOV> <OOV> <OOV> <OOV> <OOV> <OOV> <OOV> <OOV> <OOV> <OOV> <OOV> <OOV> <OOV> <OOV> <OOV> <OOV> <OOV> <OOV>'"
      ]
     },
     "execution_count": 27,
     "metadata": {},
     "output_type": "execute_result"
    }
   ],
   "source": [
    "tokenizer.sequences_to_texts(test_padded_sequences)[99]"
   ]
  },
  {
   "cell_type": "code",
   "execution_count": 28,
   "id": "53fba623",
   "metadata": {
    "execution": {
     "iopub.execute_input": "2022-11-17T10:27:23.274382Z",
     "iopub.status.busy": "2022-11-17T10:27:23.273970Z",
     "iopub.status.idle": "2022-11-17T10:27:31.073529Z",
     "shell.execute_reply": "2022-11-17T10:27:31.072304Z"
    },
    "papermill": {
     "duration": 8.101452,
     "end_time": "2022-11-17T10:27:31.075992",
     "exception": false,
     "start_time": "2022-11-17T10:27:22.974540",
     "status": "completed"
    },
    "tags": []
   },
   "outputs": [
    {
     "data": {
      "text/plain": [
       "array([0.5303677], dtype=float32)"
      ]
     },
     "execution_count": 28,
     "metadata": {},
     "output_type": "execute_result"
    }
   ],
   "source": [
    "model.predict(test_padded_sequences)[99]"
   ]
  },
  {
   "cell_type": "code",
   "execution_count": 29,
   "id": "ae46a531",
   "metadata": {
    "execution": {
     "iopub.execute_input": "2022-11-17T10:27:31.787999Z",
     "iopub.status.busy": "2022-11-17T10:27:31.787407Z",
     "iopub.status.idle": "2022-11-17T10:27:32.572684Z",
     "shell.execute_reply": "2022-11-17T10:27:32.569585Z"
    },
    "papermill": {
     "duration": 1.162203,
     "end_time": "2022-11-17T10:27:32.578734",
     "exception": false,
     "start_time": "2022-11-17T10:27:31.416531",
     "status": "completed"
    },
    "tags": []
   },
   "outputs": [
    {
     "data": {
      "image/png": "[encoded data removed]",
      "text/plain": [
       "<Figure size 432x288 with 1 Axes>"
      ]
     },
     "metadata": {
      "needs_background": "light"
     },
     "output_type": "display_data"
    },
    {
     "data": {
      "image/png": "[encoded data removed]",
      "text/plain": [
       "<Figure size 432x288 with 1 Axes>"
      ]
     },
     "metadata": {
      "needs_background": "light"
     },
     "output_type": "display_data"
    }
   ],
   "source": [
    "import matplotlib.pyplot as plt\n",
    "\n",
    "# Plot utility\n",
    "def plot_graphs(model, string):\n",
    "  plt.plot(model.history[string])\n",
    "  plt.plot(model.history['val_'+string])\n",
    "  plt.xlabel(\"Epochs\")\n",
    "  plt.ylabel(string)\n",
    "  plt.legend([string, 'val_'+string])\n",
    "  plt.show()\n",
    "  \n",
    "# Plot the accuracy and loss\n",
    "plot_graphs(history, \"accuracy\")\n",
    "plot_graphs(history, \"loss\")"
   ]
  }
 ],
 "metadata": {
  "kernelspec": {
   "display_name": "Python 3",
   "language": "python",
   "name": "python3"
  },
  "language_info": {
   "codemirror_mode": {
    "name": "ipython",
    "version": 3
   },
   "file_extension": ".py",
   "mimetype": "text/x-python",
   "name": "python",
   "nbconvert_exporter": "python",
   "pygments_lexer": "ipython3",
   "version": "3.7.12"
  },
  "papermill": {
   "default_parameters": {},
   "duration": 520.687341,
   "end_time": "2022-11-17T10:27:37.582128",
   "environment_variables": {},
   "exception": null,
   "input_path": "__notebook__.ipynb",
   "output_path": "__notebook__.ipynb",
   "parameters": {},
   "start_time": "2022-11-17T10:18:56.894787",
   "version": "2.3.4"
  }
 },
 "nbformat": 4,
 "nbformat_minor": 5
}
